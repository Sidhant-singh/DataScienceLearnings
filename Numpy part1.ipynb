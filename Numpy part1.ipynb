
import numpy as np
l = [1,2,3,4,5]
arr = np.array(l)


# In[7]:


print(type(arr))


# In[8]:


np.asarray(l)


# In[10]:


arr1 = np.array([[1,2,3],[2,3,4]])


# In[11]:


arr1.ndim


# In[12]:


arr1


# In[13]:


np.matrix(l) ##  it will convert into 2d matrix.


# In[14]:


np.asanyarray(l) ## it helps to convert any list into array


# In[15]:


arr


# In[16]:


a = arr ##swallow copy
a


# In[17]:


arr[0] = 100


# In[18]:


arr
a


# In[19]:


arr


# In[20]:


b = np.copy(arr) ## deep copy


# In[21]:


b[0] = 11


# In[22]:


b


# In[23]:


arr


# In[24]:


np.fromfunction(lambda i,j:i==j,(3,3))


# In[26]:


np.fromfunction(lambda i,j:i+j==2,(3,3))


# In[27]:


np.fromfunction(lambda i,j:i*j,(3,3))


# In[28]:


iterable = (i*i for i in range(5))


# In[29]:


np.fromiter(iterable,float)


# In[30]:


np.fromstring('23 45 56',sep = ' ')


# In[31]:


arr


# In[32]:


arr1


# In[33]:


arr.ndim


# In[34]:


arr1.ndim


# In[35]:


arr1.size


# In[36]:


arr.size


# In[37]:


arr.shape


# In[38]:


arr1.shape


# In[39]:


arr.dtype


# In[40]:


arr1.dtype


# In[ ]:




